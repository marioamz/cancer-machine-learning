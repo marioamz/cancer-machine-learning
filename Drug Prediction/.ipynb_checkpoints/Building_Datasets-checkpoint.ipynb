{
 "cells": [
  {
   "cell_type": "markdown",
   "metadata": {},
   "source": [
    "# Lab 3: Drug Dose Response"
   ]
  },
  {
   "cell_type": "markdown",
   "metadata": {},
   "source": [
    "### Steps "
   ]
  },
  {
   "cell_type": "markdown",
   "metadata": {},
   "source": [
    "* Select CCLE as the study I will test and validate on. \n",
    "* Randomly ten drugs from the CCLE study to run models through.\n",
    "* Join drug response data, which contains the tumor growth (y-variable), with RNA-Seq and SNP data to generate a robust feature set. \n",
    "* Given the continous nature of the y-variable, run a set of regression models: Logistic Regression, Decision Trees, and Naive Bayes. \n",
    "* Find the best model and apply it to ten drugs pulled from the other studies. "
   ]
  },
  {
   "cell_type": "code",
   "execution_count": 22,
   "metadata": {},
   "outputs": [],
   "source": [
    "import pandas as pd\n",
    "import random"
   ]
  },
  {
   "cell_type": "markdown",
   "metadata": {},
   "source": [
    "### Read in dose response, RNA-Seq, and SNP data for 10 random drugs"
   ]
  },
  {
   "cell_type": "markdown",
   "metadata": {},
   "source": [
    "I'll do the cut for 10 drugs in the dose response and then stitch with snp and rna-seq oncogenes data."
   ]
  },
  {
   "cell_type": "code",
   "execution_count": 61,
   "metadata": {},
   "outputs": [
    {
     "data": {
      "text/plain": [
       "CCLE.23    4031\n",
       "CCLE.16    4027\n",
       "CCLE.4     4022\n",
       "CCLE.1     4022\n",
       "CCLE.24    4020\n",
       "CCLE.18    4019\n",
       "CCLE.19    4016\n",
       "CCLE.10    3963\n",
       "CCLE.9     3924\n",
       "CCLE.13    2536\n",
       "Name: DRUG_ID, dtype: int64"
      ]
     },
     "execution_count": 61,
     "metadata": {},
     "output_type": "execute_result"
    }
   ],
   "source": [
    "CCLE_dose_response = pd.read_csv('Data/dose_response/CCLE_dose_response1', sep='\\t')\n",
    "drugs = list(CCLE_dose_response['DRUG_ID'].values)\n",
    "ten_rando_drugs = random.sample(drugs, 11)\n",
    "CCLE_10 = CCLE_dose_response[CCLE_dose_response['DRUG_ID'].isin(ten_rando_drugs)]\n",
    "CCLE_10['DRUG_ID'].value_counts()"
   ]
  },
  {
   "cell_type": "code",
   "execution_count": 63,
   "metadata": {},
   "outputs": [
    {
     "data": {
      "text/plain": [
       "CTRP.438    13643\n",
       "CTRP.162    13638\n",
       "CTRP.27     13632\n",
       "CTRP.23     13594\n",
       "CTRP.400    13459\n",
       "CTRP.490    13447\n",
       "CTRP.256    13434\n",
       "CTRP.182    13421\n",
       "CTRP.57     13315\n",
       "CTRP.225    12789\n",
       "Name: DRUG_ID, dtype: int64"
      ]
     },
     "execution_count": 63,
     "metadata": {},
     "output_type": "execute_result"
    }
   ],
   "source": [
    "CTRP_dose_response = pd.read_csv('Data/dose_response/CTRP_dose_response1', sep='\\t')\n",
    "drugs = list(CTRP_dose_response['DRUG_ID'].values)\n",
    "ten_rando_drugs = random.sample(drugs, 10)\n",
    "CTRP_10 = CTRP_dose_response[CTRP_dose_response['DRUG_ID'].isin(ten_rando_drugs)]\n",
    "CTRP_10['DRUG_ID'].value_counts()"
   ]
  },
  {
   "cell_type": "code",
   "execution_count": 73,
   "metadata": {},
   "outputs": [
    {
     "data": {
      "text/plain": [
       "gCSI.12    3681\n",
       "gCSI.3     3681\n",
       "gCSI.10    3645\n",
       "gCSI.15    3627\n",
       "gCSI.16    3627\n",
       "gCSI.11    3618\n",
       "gCSI.14    3618\n",
       "gCSI.9     3618\n",
       "gCSI.5     3618\n",
       "gCSI.8     3600\n",
       "Name: DRUG_ID, dtype: int64"
      ]
     },
     "execution_count": 73,
     "metadata": {},
     "output_type": "execute_result"
    }
   ],
   "source": [
    "gCSI_dose_response = pd.read_csv('Data/dose_response/gCSI_dose_response1', sep='\\t')\n",
    "drugs = list(gCSI_dose_response['DRUG_ID'].values)\n",
    "ten_rando_drugs = random.sample(drugs, 12)\n",
    "gCSI_10 = gCSI_dose_response[gCSI_dose_response['DRUG_ID'].isin(ten_rando_drugs)]\n",
    "gCSI_10['DRUG_ID'].value_counts()"
   ]
  },
  {
   "cell_type": "code",
   "execution_count": 75,
   "metadata": {},
   "outputs": [
    {
     "data": {
      "text/plain": [
       "GDSC.150     12948\n",
       "GDSC.1014    12538\n",
       "GDSC.1058    12529\n",
       "GDSC.249      8802\n",
       "GDSC.269      8775\n",
       "GDSC.182      8388\n",
       "GDSC.1020     8055\n",
       "GDSC.1052     8010\n",
       "GDSC.1039     7893\n",
       "Name: DRUG_ID, dtype: int64"
      ]
     },
     "execution_count": 75,
     "metadata": {},
     "output_type": "execute_result"
    }
   ],
   "source": [
    "GDSC_dose_response = pd.read_csv('Data/dose_response/GDSC_dose_response1', sep='\\t')\n",
    "drugs = list(GDSC_dose_response['DRUG_ID'].values)\n",
    "ten_rando_drugs = random.sample(drugs, 10)\n",
    "GDSC_10 = GDSC_dose_response[GDSC_dose_response['DRUG_ID'].isin(ten_rando_drugs)]\n",
    "GDSC_10['DRUG_ID'].value_counts()"
   ]
  },
  {
   "cell_type": "code",
   "execution_count": 77,
   "metadata": {},
   "outputs": [
    {
     "data": {
      "text/plain": [
       "NSC.740475    590\n",
       "NSC.2805      295\n",
       "NSC.690605    295\n",
       "NSC.676927    295\n",
       "NSC.743059    295\n",
       "NSC.4432      295\n",
       "NSC.37202     295\n",
       "NSC.647591    295\n",
       "NSC.61815     295\n",
       "NSC.716684    295\n",
       "Name: DRUG_ID, dtype: int64"
      ]
     },
     "execution_count": 77,
     "metadata": {},
     "output_type": "execute_result"
    }
   ],
   "source": [
    "NCI_dose_response = pd.read_csv('Data/dose_response/NCI60_dose_response1', sep='\\t')\n",
    "drugs = list(NCI_dose_response['DRUG_ID'].values)\n",
    "ten_rando_drugs = random.sample(drugs, 10)\n",
    "NCI_10 = NCI_dose_response[NCI_dose_response['DRUG_ID'].isin(ten_rando_drugs)]\n",
    "NCI_10['DRUG_ID'].value_counts()"
   ]
  },
  {
   "cell_type": "markdown",
   "metadata": {},
   "source": [
    "### Stitch it together "
   ]
  },
  {
   "cell_type": "code",
   "execution_count": 101,
   "metadata": {
    "scrolled": true
   },
   "outputs": [
    {
     "data": {
      "text/plain": [
       "(6039, 6173)"
      ]
     },
     "execution_count": 101,
     "metadata": {},
     "output_type": "execute_result"
    }
   ],
   "source": [
    "snp = pd.read_csv('Data/snps/combo_snp_oncogenes', sep = '\\t')\n",
    "snp.shape"
   ]
  },
  {
   "cell_type": "code",
   "execution_count": 80,
   "metadata": {},
   "outputs": [
    {
     "data": {
      "text/plain": [
       "(15196, 1942)"
      ]
     },
     "execution_count": 80,
     "metadata": {},
     "output_type": "execute_result"
    }
   ],
   "source": [
    "rna_seq = pd.read_csv('Data/rna-seq/combined_rnaseq_data_oncogenes', sep = '\\t')\n",
    "rna_seq.shape"
   ]
  },
  {
   "cell_type": "markdown",
   "metadata": {},
   "source": [
    "CCLE"
   ]
  },
  {
   "cell_type": "code",
   "execution_count": 87,
   "metadata": {},
   "outputs": [
    {
     "data": {
      "text/plain": [
       "(36289, 1948)"
      ]
     },
     "execution_count": 87,
     "metadata": {},
     "output_type": "execute_result"
    }
   ],
   "source": [
    "CCLE_rnaseq = pd.merge(rna_seq, CCLE_10, left_on='Sample', right_on='CELLNAME')\n",
    "CCLE_rnaseq.shape"
   ]
  },
  {
   "cell_type": "code",
   "execution_count": 88,
   "metadata": {
    "scrolled": true
   },
   "outputs": [
    {
     "data": {
      "text/plain": [
       "(35841, 8120)"
      ]
     },
     "execution_count": 88,
     "metadata": {},
     "output_type": "execute_result"
    }
   ],
   "source": [
    "CCLE_final = pd.merge(drug_rnaseq, snp, left_on='Sample', right_on='Sample')\n",
    "CCLE_final.shape"
   ]
  },
  {
   "cell_type": "markdown",
   "metadata": {},
   "source": [
    "CTRP"
   ]
  },
  {
   "cell_type": "code",
   "execution_count": 91,
   "metadata": {},
   "outputs": [
    {
     "data": {
      "text/plain": [
       "(123056, 1948)"
      ]
     },
     "execution_count": 91,
     "metadata": {},
     "output_type": "execute_result"
    }
   ],
   "source": [
    "CTRP_rnaseq = pd.merge(rna_seq, CTRP_10, left_on='Sample', right_on='CELLNAME')\n",
    "CTRP_rnaseq.shape"
   ]
  },
  {
   "cell_type": "code",
   "execution_count": 102,
   "metadata": {},
   "outputs": [
    {
     "data": {
      "text/plain": [
       "(0, 8120)"
      ]
     },
     "execution_count": 102,
     "metadata": {},
     "output_type": "execute_result"
    }
   ],
   "source": [
    "CTRP_final = pd.merge(CTRP_rnaseq, snp, left_on='Sample', right_on='Sample')\n",
    "CTRP_final.shape"
   ]
  },
  {
   "cell_type": "markdown",
   "metadata": {},
   "source": [
    "gCSI"
   ]
  },
  {
   "cell_type": "code",
   "execution_count": 97,
   "metadata": {},
   "outputs": [
    {
     "data": {
      "text/plain": [
       "(31788, 1948)"
      ]
     },
     "execution_count": 97,
     "metadata": {},
     "output_type": "execute_result"
    }
   ],
   "source": [
    "gCSI_rnaseq = pd.merge(rna_seq, gCSI_10, left_on='Sample', right_on='CELLNAME')\n",
    "gCSI_rnaseq.shape"
   ]
  },
  {
   "cell_type": "code",
   "execution_count": 98,
   "metadata": {},
   "outputs": [
    {
     "data": {
      "text/plain": [
       "(0, 8120)"
      ]
     },
     "execution_count": 98,
     "metadata": {},
     "output_type": "execute_result"
    }
   ],
   "source": [
    "gCSI_final = pd.merge(gCSI_rnaseq, snp, left_on='Sample', right_on='Sample')\n",
    "gCSI_final.shape"
   ]
  },
  {
   "cell_type": "markdown",
   "metadata": {},
   "source": [
    "GDSC"
   ]
  },
  {
   "cell_type": "code",
   "execution_count": 103,
   "metadata": {},
   "outputs": [
    {
     "data": {
      "text/plain": [
       "(55821, 1948)"
      ]
     },
     "execution_count": 103,
     "metadata": {},
     "output_type": "execute_result"
    }
   ],
   "source": [
    "GDSC_rnaseq = pd.merge(rna_seq, GDSC_10, left_on='Sample', right_on='CELLNAME')\n",
    "GDSC_rnaseq.shape"
   ]
  },
  {
   "cell_type": "code",
   "execution_count": 104,
   "metadata": {},
   "outputs": [
    {
     "data": {
      "text/plain": [
       "(47030, 8120)"
      ]
     },
     "execution_count": 104,
     "metadata": {},
     "output_type": "execute_result"
    }
   ],
   "source": [
    "GDSC_final = pd.merge(GDSC_rnaseq, snp, left_on='Sample', right_on='Sample')\n",
    "GDSC_final.shape"
   ]
  },
  {
   "cell_type": "markdown",
   "metadata": {},
   "source": [
    "NCI60"
   ]
  },
  {
   "cell_type": "code",
   "execution_count": 106,
   "metadata": {},
   "outputs": [
    {
     "data": {
      "text/plain": [
       "(3245, 1948)"
      ]
     },
     "execution_count": 106,
     "metadata": {},
     "output_type": "execute_result"
    }
   ],
   "source": [
    "NCI_rnaseq = pd.merge(rna_seq, NCI_10, left_on='Sample', right_on='CELLNAME')\n",
    "NCI_rnaseq.shape"
   ]
  },
  {
   "cell_type": "code",
   "execution_count": 107,
   "metadata": {},
   "outputs": [
    {
     "data": {
      "text/plain": [
       "(3245, 8120)"
      ]
     },
     "execution_count": 107,
     "metadata": {},
     "output_type": "execute_result"
    }
   ],
   "source": [
    "NCI_final = pd.merge(NCI_rnaseq, snp, left_on='Sample', right_on='Sample')\n",
    "NCI_final.shape"
   ]
  },
  {
   "cell_type": "markdown",
   "metadata": {},
   "source": [
    "### Output to CSV"
   ]
  },
  {
   "cell_type": "code",
   "execution_count": 89,
   "metadata": {},
   "outputs": [],
   "source": [
    "CCLE_final.to_csv('CCLE_stitched.csv')"
   ]
  },
  {
   "cell_type": "code",
   "execution_count": 108,
   "metadata": {},
   "outputs": [],
   "source": [
    "NCI_final.to_csv('NCI_stitched.csv')"
   ]
  },
  {
   "cell_type": "code",
   "execution_count": 109,
   "metadata": {},
   "outputs": [],
   "source": [
    "GDSC_final.to_csv('GDSC_stitched.csv')"
   ]
  },
  {
   "cell_type": "code",
   "execution_count": 110,
   "metadata": {},
   "outputs": [],
   "source": [
    "gCSI_rnaseq.to_csv('gCSI_stitched.csv')"
   ]
  },
  {
   "cell_type": "code",
   "execution_count": 111,
   "metadata": {},
   "outputs": [],
   "source": [
    "CTRP_rnaseq.to_csv('CTRP_stitched.csv')"
   ]
  }
 ],
 "metadata": {
  "kernelspec": {
   "display_name": "Python 3",
   "language": "python",
   "name": "python3"
  },
  "language_info": {
   "codemirror_mode": {
    "name": "ipython",
    "version": 3
   },
   "file_extension": ".py",
   "mimetype": "text/x-python",
   "name": "python",
   "nbconvert_exporter": "python",
   "pygments_lexer": "ipython3",
   "version": "3.7.1"
  }
 },
 "nbformat": 4,
 "nbformat_minor": 2
}
