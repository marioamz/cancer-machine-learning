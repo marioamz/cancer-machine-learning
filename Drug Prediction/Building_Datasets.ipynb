{
 "cells": [
  {
   "cell_type": "markdown",
   "metadata": {},
   "source": [
    "# Lab 3: Drug Dose Response"
   ]
  },
  {
   "cell_type": "markdown",
   "metadata": {},
   "source": [
    "### Steps "
   ]
  },
  {
   "cell_type": "markdown",
   "metadata": {},
   "source": [
    "* Select CCLE as the study I will test and validate on. \n",
    "* Randomly ten drugs from the CCLE study to run models through.\n",
    "* Join drug response data, which contains the tumor growth (y-variable), with RNA-Seq and SNP data to generate a robust feature set. \n",
    "* Given the continous nature of the y-variable, run a set of regression models: Logistic Regression, Decision Trees, and Naive Bayes. \n",
    "* Find the best model and apply it to ten drugs pulled from the other studies. "
   ]
  },
  {
   "cell_type": "code",
   "execution_count": 59,
   "metadata": {},
   "outputs": [],
   "source": [
    "import pandas as pd\n",
    "import random"
   ]
  },
  {
   "cell_type": "markdown",
   "metadata": {},
   "source": [
    "### Read in dose response, RNA-Seq, and SNP data for 10 random drugs"
   ]
  },
  {
   "cell_type": "markdown",
   "metadata": {},
   "source": [
    "I'll do the cut for 10 drugs in the dose response and then stitch with snp and rna-seq oncogenes data."
   ]
  },
  {
   "cell_type": "code",
   "execution_count": 2,
   "metadata": {},
   "outputs": [
    {
     "data": {
      "text/plain": [
       "CCLE.8     4027\n",
       "CCLE.7     4024\n",
       "CCLE.1     4022\n",
       "CCLE.3     4021\n",
       "CCLE.24    4020\n",
       "CCLE.15    4016\n",
       "CCLE.11    4000\n",
       "CCLE.20    3959\n",
       "CCLE.21    3679\n",
       "CCLE.17    3469\n",
       "Name: DRUG_ID, dtype: int64"
      ]
     },
     "execution_count": 2,
     "metadata": {},
     "output_type": "execute_result"
    }
   ],
   "source": [
    "CCLE_dose_response = pd.read_csv('Data/dose_response/CCLE_dose_response1', sep='\\t')\n",
    "drugs = list(CCLE_dose_response['DRUG_ID'].values)\n",
    "ten_rando_drugs = random.sample(drugs, 11)\n",
    "CCLE_10 = CCLE_dose_response[CCLE_dose_response['DRUG_ID'].isin(ten_rando_drugs)]\n",
    "CCLE_10['DRUG_ID'].value_counts()"
   ]
  },
  {
   "cell_type": "code",
   "execution_count": 3,
   "metadata": {},
   "outputs": [
    {
     "data": {
      "text/plain": [
       "CTRP.525    13724\n",
       "CTRP.366    13480\n",
       "CTRP.256    13434\n",
       "CTRP.185    13337\n",
       "CTRP.323    13293\n",
       "CTRP.169    12961\n",
       "CTRP.343    12845\n",
       "CTRP.534    12352\n",
       "CTRP.4      12163\n",
       "CTRP.91      3281\n",
       "Name: DRUG_ID, dtype: int64"
      ]
     },
     "execution_count": 3,
     "metadata": {},
     "output_type": "execute_result"
    }
   ],
   "source": [
    "CTRP_dose_response = pd.read_csv('Data/dose_response/CTRP_dose_response1', sep='\\t')\n",
    "drugs = list(CTRP_dose_response['DRUG_ID'].values)\n",
    "ten_rando_drugs = random.sample(drugs, 10)\n",
    "CTRP_10 = CTRP_dose_response[CTRP_dose_response['DRUG_ID'].isin(ten_rando_drugs)]\n",
    "CTRP_10['DRUG_ID'].value_counts()"
   ]
  },
  {
   "cell_type": "code",
   "execution_count": 4,
   "metadata": {},
   "outputs": [
    {
     "data": {
      "text/plain": [
       "gCSI.12    3681\n",
       "gCSI.13    3681\n",
       "gCSI.6     3645\n",
       "gCSI.10    3645\n",
       "gCSI.16    3627\n",
       "gCSI.2     3627\n",
       "gCSI.5     3618\n",
       "gCSI.8     3600\n",
       "gCSI.7     3599\n",
       "gCSI.1     3582\n",
       "Name: DRUG_ID, dtype: int64"
      ]
     },
     "execution_count": 4,
     "metadata": {},
     "output_type": "execute_result"
    }
   ],
   "source": [
    "gCSI_dose_response = pd.read_csv('Data/dose_response/gCSI_dose_response1', sep='\\t')\n",
    "drugs = list(gCSI_dose_response['DRUG_ID'].values)\n",
    "ten_rando_drugs = random.sample(drugs, 12)\n",
    "gCSI_10 = gCSI_dose_response[gCSI_dose_response['DRUG_ID'].isin(ten_rando_drugs)]\n",
    "gCSI_10['DRUG_ID'].value_counts()"
   ]
  },
  {
   "cell_type": "code",
   "execution_count": 5,
   "metadata": {},
   "outputs": [
    {
     "data": {
      "text/plain": [
       "GDSC.1072    17532\n",
       "GDSC.1032    12850\n",
       "GDSC.346      8802\n",
       "GDSC.294      8802\n",
       "GDSC.258      8775\n",
       "GDSC.135      8388\n",
       "GDSC.1052     8010\n",
       "GDSC.1038     8001\n",
       "GDSC.9        3852\n",
       "GDSC.87       3843\n",
       "Name: DRUG_ID, dtype: int64"
      ]
     },
     "execution_count": 5,
     "metadata": {},
     "output_type": "execute_result"
    }
   ],
   "source": [
    "GDSC_dose_response = pd.read_csv('Data/dose_response/GDSC_dose_response1', sep='\\t')\n",
    "drugs = list(GDSC_dose_response['DRUG_ID'].values)\n",
    "ten_rando_drugs = random.sample(drugs, 10)\n",
    "GDSC_10 = GDSC_dose_response[GDSC_dose_response['DRUG_ID'].isin(ten_rando_drugs)]\n",
    "GDSC_10['DRUG_ID'].value_counts()"
   ]
  },
  {
   "cell_type": "code",
   "execution_count": 6,
   "metadata": {},
   "outputs": [
    {
     "data": {
      "text/plain": [
       "NSC.1507      295\n",
       "NSC.7782      295\n",
       "NSC.650772    295\n",
       "NSC.13480     295\n",
       "NSC.757794    295\n",
       "NSC.648585    295\n",
       "NSC.95503     295\n",
       "NSC.758617    295\n",
       "NSC.717458    295\n",
       "NSC.676449    295\n",
       "Name: DRUG_ID, dtype: int64"
      ]
     },
     "execution_count": 6,
     "metadata": {},
     "output_type": "execute_result"
    }
   ],
   "source": [
    "NCI_dose_response = pd.read_csv('Data/dose_response/NCI60_dose_response1', sep='\\t')\n",
    "drugs = list(NCI_dose_response['DRUG_ID'].values)\n",
    "ten_rando_drugs = random.sample(drugs, 10)\n",
    "NCI_10 = NCI_dose_response[NCI_dose_response['DRUG_ID'].isin(ten_rando_drugs)]\n",
    "NCI_10['DRUG_ID'].value_counts()"
   ]
  },
  {
   "cell_type": "markdown",
   "metadata": {},
   "source": [
    "### Stitch it together "
   ]
  },
  {
   "cell_type": "code",
   "execution_count": 12,
   "metadata": {
    "scrolled": true
   },
   "outputs": [
    {
     "data": {
      "text/plain": [
       "(4085, 2365)"
      ]
     },
     "execution_count": 12,
     "metadata": {},
     "output_type": "execute_result"
    }
   ],
   "source": [
    "snp = pd.read_csv('Data/snps/combo_snp_linc1000', sep = '\\t')\n",
    "snp.shape"
   ]
  },
  {
   "cell_type": "code",
   "execution_count": 13,
   "metadata": {},
   "outputs": [
    {
     "data": {
      "text/plain": [
       "(15196, 943)"
      ]
     },
     "execution_count": 13,
     "metadata": {},
     "output_type": "execute_result"
    }
   ],
   "source": [
    "rna_seq = pd.read_csv('Data/rna-seq/combined_rnaseq_data_lincs1000', sep = '\\t')\n",
    "rna_seq.shape"
   ]
  },
  {
   "cell_type": "markdown",
   "metadata": {},
   "source": [
    "CCLE"
   ]
  },
  {
   "cell_type": "code",
   "execution_count": 15,
   "metadata": {},
   "outputs": [
    {
     "data": {
      "text/plain": [
       "(36872, 949)"
      ]
     },
     "execution_count": 15,
     "metadata": {},
     "output_type": "execute_result"
    }
   ],
   "source": [
    "CCLE_rnaseq = pd.merge(rna_seq, CCLE_10, left_on='Sample', right_on='CELLNAME')\n",
    "CCLE_rnaseq.shape"
   ]
  },
  {
   "cell_type": "code",
   "execution_count": 17,
   "metadata": {
    "scrolled": true
   },
   "outputs": [
    {
     "data": {
      "text/plain": [
       "(30597, 3313)"
      ]
     },
     "execution_count": 17,
     "metadata": {},
     "output_type": "execute_result"
    }
   ],
   "source": [
    "CCLE_final = pd.merge(CCLE_rnaseq, snp, left_on='Sample', right_on='Sample')\n",
    "CCLE_final.shape"
   ]
  },
  {
   "cell_type": "code",
   "execution_count": 49,
   "metadata": {},
   "outputs": [
    {
     "data": {
      "text/plain": [
       "(30597, 3309)"
      ]
     },
     "execution_count": 49,
     "metadata": {},
     "output_type": "execute_result"
    }
   ],
   "source": [
    "CCLE_use = CCLE_final.drop(columns=['CELLNAME', 'Sample', 'CONCUNIT', 'EXPID'])\n",
    "CCLE_use.shape"
   ]
  },
  {
   "cell_type": "markdown",
   "metadata": {},
   "source": [
    "CTRP"
   ]
  },
  {
   "cell_type": "code",
   "execution_count": 33,
   "metadata": {},
   "outputs": [
    {
     "data": {
      "text/plain": [
       "(111143, 949)"
      ]
     },
     "execution_count": 33,
     "metadata": {},
     "output_type": "execute_result"
    }
   ],
   "source": [
    "CTRP_rnaseq = pd.merge(rna_seq, CTRP_10, left_on='Sample', right_on='CELLNAME')\n",
    "CTRP_rnaseq.shape"
   ]
  },
  {
   "cell_type": "code",
   "execution_count": 50,
   "metadata": {},
   "outputs": [
    {
     "data": {
      "text/plain": [
       "(111143, 945)"
      ]
     },
     "execution_count": 50,
     "metadata": {},
     "output_type": "execute_result"
    }
   ],
   "source": [
    "CTRP_use = CTRP_rnaseq.drop(columns=['CELLNAME', 'Sample', 'CONCUNIT', 'EXPID'])\n",
    "CTRP_use.shape"
   ]
  },
  {
   "cell_type": "markdown",
   "metadata": {},
   "source": [
    "gCSI"
   ]
  },
  {
   "cell_type": "code",
   "execution_count": 35,
   "metadata": {},
   "outputs": [
    {
     "data": {
      "text/plain": [
       "(31742, 949)"
      ]
     },
     "execution_count": 35,
     "metadata": {},
     "output_type": "execute_result"
    }
   ],
   "source": [
    "gCSI_rnaseq = pd.merge(rna_seq, gCSI_10, left_on='Sample', right_on='CELLNAME')\n",
    "gCSI_rnaseq.shape"
   ]
  },
  {
   "cell_type": "code",
   "execution_count": 51,
   "metadata": {},
   "outputs": [
    {
     "data": {
      "text/plain": [
       "(31742, 945)"
      ]
     },
     "execution_count": 51,
     "metadata": {},
     "output_type": "execute_result"
    }
   ],
   "source": [
    "gCSI_use = gCSI_rnaseq.drop(columns=['CELLNAME', 'Sample', 'CONCUNIT', 'EXPID'])\n",
    "gCSI_use.shape"
   ]
  },
  {
   "cell_type": "markdown",
   "metadata": {},
   "source": [
    "GDSC"
   ]
  },
  {
   "cell_type": "code",
   "execution_count": 37,
   "metadata": {},
   "outputs": [
    {
     "data": {
      "text/plain": [
       "(55921, 949)"
      ]
     },
     "execution_count": 37,
     "metadata": {},
     "output_type": "execute_result"
    }
   ],
   "source": [
    "GDSC_rnaseq = pd.merge(rna_seq, GDSC_10, left_on='Sample', right_on='CELLNAME')\n",
    "GDSC_rnaseq.shape"
   ]
  },
  {
   "cell_type": "code",
   "execution_count": 38,
   "metadata": {},
   "outputs": [
    {
     "data": {
      "text/plain": [
       "(37061, 3313)"
      ]
     },
     "execution_count": 38,
     "metadata": {},
     "output_type": "execute_result"
    }
   ],
   "source": [
    "GDSC_final = pd.merge(GDSC_rnaseq, snp, left_on='Sample', right_on='Sample')\n",
    "GDSC_final.shape"
   ]
  },
  {
   "cell_type": "code",
   "execution_count": 52,
   "metadata": {},
   "outputs": [
    {
     "data": {
      "text/plain": [
       "(37061, 3309)"
      ]
     },
     "execution_count": 52,
     "metadata": {},
     "output_type": "execute_result"
    }
   ],
   "source": [
    "GDSC_use = GDSC_final.drop(columns=['CELLNAME', 'Sample', 'CONCUNIT', 'EXPID'])\n",
    "GDSC_use.shape"
   ]
  },
  {
   "cell_type": "markdown",
   "metadata": {},
   "source": [
    "NCI60"
   ]
  },
  {
   "cell_type": "code",
   "execution_count": 40,
   "metadata": {},
   "outputs": [
    {
     "data": {
      "text/plain": [
       "(2950, 949)"
      ]
     },
     "execution_count": 40,
     "metadata": {},
     "output_type": "execute_result"
    }
   ],
   "source": [
    "NCI_rnaseq = pd.merge(rna_seq, NCI_10, left_on='Sample', right_on='CELLNAME')\n",
    "NCI_rnaseq.shape"
   ]
  },
  {
   "cell_type": "code",
   "execution_count": 41,
   "metadata": {},
   "outputs": [
    {
     "data": {
      "text/plain": [
       "(2950, 3313)"
      ]
     },
     "execution_count": 41,
     "metadata": {},
     "output_type": "execute_result"
    }
   ],
   "source": [
    "NCI_final = pd.merge(NCI_rnaseq, snp, left_on='Sample', right_on='Sample')\n",
    "NCI_final.shape"
   ]
  },
  {
   "cell_type": "code",
   "execution_count": 53,
   "metadata": {},
   "outputs": [
    {
     "data": {
      "text/plain": [
       "(2950, 3309)"
      ]
     },
     "execution_count": 53,
     "metadata": {},
     "output_type": "execute_result"
    }
   ],
   "source": [
    "NCI_use = NCI_final.drop(columns=['CELLNAME', 'Sample', 'CONCUNIT', 'EXPID'])\n",
    "NCI_use.shape"
   ]
  },
  {
   "cell_type": "markdown",
   "metadata": {},
   "source": [
    "### Output to CSV"
   ]
  },
  {
   "cell_type": "code",
   "execution_count": 54,
   "metadata": {},
   "outputs": [],
   "source": [
    "CCLE_use.to_csv('CCLE_stitched.csv', index='DRUG_ID')"
   ]
  },
  {
   "cell_type": "code",
   "execution_count": 55,
   "metadata": {},
   "outputs": [],
   "source": [
    "NCI_use.to_csv('NCI_stitched.csv', index='DRUG_ID')"
   ]
  },
  {
   "cell_type": "code",
   "execution_count": 56,
   "metadata": {},
   "outputs": [],
   "source": [
    "GDSC_use.to_csv('GDSC_stitched.csv', index='DRUG_ID')"
   ]
  },
  {
   "cell_type": "code",
   "execution_count": 57,
   "metadata": {},
   "outputs": [],
   "source": [
    "gCSI_use.to_csv('gCSI_stitched.csv', index='DRUG_ID')"
   ]
  },
  {
   "cell_type": "code",
   "execution_count": 58,
   "metadata": {},
   "outputs": [],
   "source": [
    "CTRP_use.to_csv('CTRP_stitched.csv', index='DRUG_ID')"
   ]
  }
 ],
 "metadata": {
  "kernelspec": {
   "display_name": "Python 3",
   "language": "python",
   "name": "python3"
  },
  "language_info": {
   "codemirror_mode": {
    "name": "ipython",
    "version": 3
   },
   "file_extension": ".py",
   "mimetype": "text/x-python",
   "name": "python",
   "nbconvert_exporter": "python",
   "pygments_lexer": "ipython3",
   "version": "3.7.1"
  }
 },
 "nbformat": 4,
 "nbformat_minor": 2
}
